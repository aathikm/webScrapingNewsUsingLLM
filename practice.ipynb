{
 "cells": [
  {
   "cell_type": "code",
   "execution_count": 4,
   "metadata": {},
   "outputs": [],
   "source": [
    "import requests\n",
    "from bs4 import BeautifulSoup\n",
    "import pandas as pd"
   ]
  },
  {
   "cell_type": "code",
   "execution_count": 1,
   "metadata": {},
   "outputs": [],
   "source": [
    "from web_scraping_news import WebScrappingDataGeneration"
   ]
  },
  {
   "cell_type": "code",
   "execution_count": 6,
   "metadata": {},
   "outputs": [
    {
     "name": "stdout",
     "output_type": "stream",
     "text": [
      "                                                link  \\\n",
      "0  https://www.espn.in/football/league/_/name/fif...   \n",
      "1          https://www.espn.in/football/club/_/id/83   \n",
      "2            https://www.espn.co.uk/soccer/transfers   \n",
      "3            https://www.espn.in/football/scoreboard   \n",
      "4                 https://www.espn.in/football/table   \n",
      "5             https://www.espn.in/football/transfers   \n",
      "\n",
      "                                            label extracted  \n",
      "0                                  FIFA World Cup  football  \n",
      "1                                         See All  football  \n",
      "2  Check out all the latest completed major deals    soccer  \n",
      "3                                   Latest scores  football  \n",
      "4                                   League tables  football  \n",
      "5                                       Transfers  football  \n"
     ]
    }
   ],
   "source": [
    "url = \"https://www.espn.in/football/\"\n",
    "keywords = [\"football\", \"soccer\"]\n",
    "data = WebScrappingDataGeneration(url, keywords=keywords).scrap_data()\n",
    "data = pd.DataFrame(data)\n",
    "print(data)\n"
   ]
  },
  {
   "cell_type": "code",
   "execution_count": 1,
   "metadata": {},
   "outputs": [
    {
     "name": "stdout",
     "output_type": "stream",
     "text": [
      "                                                link  \\\n",
      "0  https://www.espn.in/football/league/_/name/fif...   \n",
      "1          https://www.espn.in/football/club/_/id/83   \n",
      "2            https://www.espn.co.uk/soccer/transfers   \n",
      "3            https://www.espn.in/football/scoreboard   \n",
      "4                 https://www.espn.in/football/table   \n",
      "5             https://www.espn.in/football/transfers   \n",
      "\n",
      "                                            label extracted  \n",
      "0                                  FIFA World Cup  football  \n",
      "1                                         See All  football  \n",
      "2  Check out all the latest completed major deals    soccer  \n",
      "3                                   Latest scores  football  \n",
      "4                                   League tables  football  \n",
      "5                                       Transfers  football  \n"
     ]
    },
    {
     "name": "stderr",
     "output_type": "stream",
     "text": [
      "d:\\GenAi_Course\\gen_ai_tutorial\\llm_practices\\venv\\Lib\\site-packages\\urllib3\\connectionpool.py:1099: InsecureRequestWarning: Unverified HTTPS request is being made to host 'www.espn.in'. Adding certificate verification is strongly advised. See: https://urllib3.readthedocs.io/en/latest/advanced-usage.html#tls-warnings\n",
      "  warnings.warn(\n",
      "d:\\GenAi_Course\\gen_ai_tutorial\\llm_practices\\text_summarization\\llm_newsScraping.py:30: LangChainDeprecationWarning: The method `Chain.run` was deprecated in langchain 0.1.0 and will be removed in 1.0. Use :meth:`~invoke` instead.\n",
      "  output_chain = chain.run(docs)\n",
      "d:\\GenAi_Course\\gen_ai_tutorial\\llm_practices\\venv\\Lib\\site-packages\\urllib3\\connectionpool.py:1099: InsecureRequestWarning: Unverified HTTPS request is being made to host 'www.espn.in'. Adding certificate verification is strongly advised. See: https://urllib3.readthedocs.io/en/latest/advanced-usage.html#tls-warnings\n",
      "  warnings.warn(\n",
      "d:\\GenAi_Course\\gen_ai_tutorial\\llm_practices\\venv\\Lib\\site-packages\\urllib3\\connectionpool.py:1099: InsecureRequestWarning: Unverified HTTPS request is being made to host 'www.espn.co.uk'. Adding certificate verification is strongly advised. See: https://urllib3.readthedocs.io/en/latest/advanced-usage.html#tls-warnings\n",
      "  warnings.warn(\n",
      "d:\\GenAi_Course\\gen_ai_tutorial\\llm_practices\\venv\\Lib\\site-packages\\urllib3\\connectionpool.py:1099: InsecureRequestWarning: Unverified HTTPS request is being made to host 'www.espn.in'. Adding certificate verification is strongly advised. See: https://urllib3.readthedocs.io/en/latest/advanced-usage.html#tls-warnings\n",
      "  warnings.warn(\n",
      "d:\\GenAi_Course\\gen_ai_tutorial\\llm_practices\\venv\\Lib\\site-packages\\urllib3\\connectionpool.py:1099: InsecureRequestWarning: Unverified HTTPS request is being made to host 'www.espn.in'. Adding certificate verification is strongly advised. See: https://urllib3.readthedocs.io/en/latest/advanced-usage.html#tls-warnings\n",
      "  warnings.warn(\n",
      "d:\\GenAi_Course\\gen_ai_tutorial\\llm_practices\\venv\\Lib\\site-packages\\urllib3\\connectionpool.py:1099: InsecureRequestWarning: Unverified HTTPS request is being made to host 'www.espn.in'. Adding certificate verification is strongly advised. See: https://urllib3.readthedocs.io/en/latest/advanced-usage.html#tls-warnings\n",
      "  warnings.warn(\n"
     ]
    },
    {
     "name": "stdout",
     "output_type": "stream",
     "text": [
      "                                                link  \\\n",
      "0  https://www.espn.in/football/league/_/name/fif...   \n",
      "1          https://www.espn.in/football/club/_/id/83   \n",
      "2            https://www.espn.co.uk/soccer/transfers   \n",
      "3            https://www.espn.in/football/scoreboard   \n",
      "4                 https://www.espn.in/football/table   \n",
      "5             https://www.espn.in/football/transfers   \n",
      "\n",
      "                                            label extracted  \\\n",
      "0                                  FIFA World Cup  football   \n",
      "1                                         See All  football   \n",
      "2  Check out all the latest completed major deals    soccer   \n",
      "3                                   Latest scores  football   \n",
      "4                                   League tables  football   \n",
      "5                                       Transfers  football   \n",
      "\n",
      "                                       scrapped_news  \n",
      "0  ## ESPN India Edition - October 27, 2023\\n\\n**...  \n",
      "1  ## Barcelona: Champions League Update and LALI...  \n",
      "2  ## Transfer News\\n\\n**Title:** Transfer Talk: ...  \n",
      "3  ## Soccer Scores\\n\\n**Date:** Saturday, Octobe...  \n",
      "4  ## English Premier League Table 2024-25\\n\\n**T...  \n",
      "5  ## Transfer Talk: Latest Football Transfer New...  \n"
     ]
    }
   ],
   "source": [
    "from web_scraping_news import ScrapData"
   ]
  },
  {
   "cell_type": "code",
   "execution_count": 13,
   "metadata": {},
   "outputs": [
    {
     "name": "stderr",
     "output_type": "stream",
     "text": [
      "d:\\GenAi_Course\\gen_ai_tutorial\\llm_practices\\venv\\Lib\\site-packages\\urllib3\\connectionpool.py:1099: InsecureRequestWarning: Unverified HTTPS request is being made to host 'www.espn.in'. Adding certificate verification is strongly advised. See: https://urllib3.readthedocs.io/en/latest/advanced-usage.html#tls-warnings\n",
      "  warnings.warn(\n"
     ]
    },
    {
     "ename": "ValueError",
     "evalue": "Missing some input keys: {'input_documents'}",
     "output_type": "error",
     "traceback": [
      "\u001b[1;31m---------------------------------------------------------------------------\u001b[0m",
      "\u001b[1;31mValueError\u001b[0m                                Traceback (most recent call last)",
      "Cell \u001b[1;32mIn[13], line 3\u001b[0m\n\u001b[0;32m      1\u001b[0m \u001b[38;5;28;01mfrom\u001b[39;00m \u001b[38;5;21;01mllm_newsScraping\u001b[39;00m \u001b[38;5;28;01mimport\u001b[39;00m create_scraped_news\n\u001b[1;32m----> 3\u001b[0m \u001b[43mcreate_scraped_news\u001b[49m\u001b[43m(\u001b[49m\u001b[43mdata\u001b[49m\u001b[43m[\u001b[49m\u001b[38;5;124;43m'\u001b[39;49m\u001b[38;5;124;43mlink\u001b[39;49m\u001b[38;5;124;43m'\u001b[39;49m\u001b[43m]\u001b[49m\u001b[43m[\u001b[49m\u001b[38;5;241;43m1\u001b[39;49m\u001b[43m]\u001b[49m\u001b[43m)\u001b[49m\n",
      "File \u001b[1;32md:\\GenAi_Course\\gen_ai_tutorial\\llm_practices\\text_summarization\\llm_newsScraping.py:30\u001b[0m, in \u001b[0;36mcreate_scraped_news\u001b[1;34m(url_link)\u001b[0m\n\u001b[0;32m     28\u001b[0m \u001b[38;5;66;03m## Chain for summarization\u001b[39;00m\n\u001b[0;32m     29\u001b[0m chain \u001b[38;5;241m=\u001b[39m load_summarize_chain(llm, chain_type\u001b[38;5;241m=\u001b[39m\u001b[38;5;124m\"\u001b[39m\u001b[38;5;124mstuff\u001b[39m\u001b[38;5;124m\"\u001b[39m, prompt\u001b[38;5;241m=\u001b[39mprompt)\n\u001b[1;32m---> 30\u001b[0m review_structured_data \u001b[38;5;241m=\u001b[39m \u001b[43mchain\u001b[49m\u001b[38;5;241;43m.\u001b[39;49m\u001b[43minvoke\u001b[49m\u001b[43m(\u001b[49m\u001b[43m{\u001b[49m\u001b[38;5;124;43m\"\u001b[39;49m\u001b[38;5;124;43muser_input\u001b[39;49m\u001b[38;5;124;43m\"\u001b[39;49m\u001b[43m:\u001b[49m\u001b[43m \u001b[49m\u001b[43m[\u001b[49m\u001b[43murl_link\u001b[49m\u001b[43m]\u001b[49m\u001b[43m}\u001b[49m\u001b[43m)\u001b[49m\n\u001b[0;32m     31\u001b[0m output_chain \u001b[38;5;241m=\u001b[39m chain\u001b[38;5;241m.\u001b[39mrun(docs)\n\u001b[0;32m     32\u001b[0m \u001b[38;5;66;03m# output_chain = review_structured_data.dict()\u001b[39;00m\n",
      "File \u001b[1;32md:\\GenAi_Course\\gen_ai_tutorial\\llm_practices\\venv\\Lib\\site-packages\\langchain\\chains\\base.py:170\u001b[0m, in \u001b[0;36mChain.invoke\u001b[1;34m(self, input, config, **kwargs)\u001b[0m\n\u001b[0;32m    168\u001b[0m \u001b[38;5;28;01mexcept\u001b[39;00m \u001b[38;5;167;01mBaseException\u001b[39;00m \u001b[38;5;28;01mas\u001b[39;00m e:\n\u001b[0;32m    169\u001b[0m     run_manager\u001b[38;5;241m.\u001b[39mon_chain_error(e)\n\u001b[1;32m--> 170\u001b[0m     \u001b[38;5;28;01mraise\u001b[39;00m e\n\u001b[0;32m    171\u001b[0m run_manager\u001b[38;5;241m.\u001b[39mon_chain_end(outputs)\n\u001b[0;32m    173\u001b[0m \u001b[38;5;28;01mif\u001b[39;00m include_run_info:\n",
      "File \u001b[1;32md:\\GenAi_Course\\gen_ai_tutorial\\llm_practices\\venv\\Lib\\site-packages\\langchain\\chains\\base.py:158\u001b[0m, in \u001b[0;36mChain.invoke\u001b[1;34m(self, input, config, **kwargs)\u001b[0m\n\u001b[0;32m    151\u001b[0m run_manager \u001b[38;5;241m=\u001b[39m callback_manager\u001b[38;5;241m.\u001b[39mon_chain_start(\n\u001b[0;32m    152\u001b[0m     \u001b[38;5;28;01mNone\u001b[39;00m,\n\u001b[0;32m    153\u001b[0m     inputs,\n\u001b[0;32m    154\u001b[0m     run_id,\n\u001b[0;32m    155\u001b[0m     name\u001b[38;5;241m=\u001b[39mrun_name,\n\u001b[0;32m    156\u001b[0m )\n\u001b[0;32m    157\u001b[0m \u001b[38;5;28;01mtry\u001b[39;00m:\n\u001b[1;32m--> 158\u001b[0m     \u001b[38;5;28;43mself\u001b[39;49m\u001b[38;5;241;43m.\u001b[39;49m\u001b[43m_validate_inputs\u001b[49m\u001b[43m(\u001b[49m\u001b[43minputs\u001b[49m\u001b[43m)\u001b[49m\n\u001b[0;32m    159\u001b[0m     outputs \u001b[38;5;241m=\u001b[39m (\n\u001b[0;32m    160\u001b[0m         \u001b[38;5;28mself\u001b[39m\u001b[38;5;241m.\u001b[39m_call(inputs, run_manager\u001b[38;5;241m=\u001b[39mrun_manager)\n\u001b[0;32m    161\u001b[0m         \u001b[38;5;28;01mif\u001b[39;00m new_arg_supported\n\u001b[0;32m    162\u001b[0m         \u001b[38;5;28;01melse\u001b[39;00m \u001b[38;5;28mself\u001b[39m\u001b[38;5;241m.\u001b[39m_call(inputs)\n\u001b[0;32m    163\u001b[0m     )\n\u001b[0;32m    165\u001b[0m     final_outputs: Dict[\u001b[38;5;28mstr\u001b[39m, Any] \u001b[38;5;241m=\u001b[39m \u001b[38;5;28mself\u001b[39m\u001b[38;5;241m.\u001b[39mprep_outputs(\n\u001b[0;32m    166\u001b[0m         inputs, outputs, return_only_outputs\n\u001b[0;32m    167\u001b[0m     )\n",
      "File \u001b[1;32md:\\GenAi_Course\\gen_ai_tutorial\\llm_practices\\venv\\Lib\\site-packages\\langchain\\chains\\base.py:290\u001b[0m, in \u001b[0;36mChain._validate_inputs\u001b[1;34m(self, inputs)\u001b[0m\n\u001b[0;32m    288\u001b[0m missing_keys \u001b[38;5;241m=\u001b[39m \u001b[38;5;28mset\u001b[39m(\u001b[38;5;28mself\u001b[39m\u001b[38;5;241m.\u001b[39minput_keys)\u001b[38;5;241m.\u001b[39mdifference(inputs)\n\u001b[0;32m    289\u001b[0m \u001b[38;5;28;01mif\u001b[39;00m missing_keys:\n\u001b[1;32m--> 290\u001b[0m     \u001b[38;5;28;01mraise\u001b[39;00m \u001b[38;5;167;01mValueError\u001b[39;00m(\u001b[38;5;124mf\u001b[39m\u001b[38;5;124m\"\u001b[39m\u001b[38;5;124mMissing some input keys: \u001b[39m\u001b[38;5;132;01m{\u001b[39;00mmissing_keys\u001b[38;5;132;01m}\u001b[39;00m\u001b[38;5;124m\"\u001b[39m)\n",
      "\u001b[1;31mValueError\u001b[0m: Missing some input keys: {'input_documents'}"
     ]
    }
   ],
   "source": [
    "from llm_newsScraping import create_scraped_news\n",
    "\n",
    "create_scraped_news(data['link'][1])"
   ]
  },
  {
   "cell_type": "code",
   "execution_count": 2,
   "metadata": {},
   "outputs": [],
   "source": [
    "URL_link = \"https://www.espn.in/football/\"\n",
    "\n",
    "headers = {\n",
    "    \"User-Agent\": \"Mozilla/5.0 (Windows NT 10.0; Win64; x64) AppleWebKit/537.36 (KHTML, like Gecko) Chrome/129.0.0.0 Safari/537.36\",\n",
    "}\n",
    "\n",
    "response = requests.get(URL_link, headers=headers)\n",
    "\n",
    "bsoup = BeautifulSoup(response.content, 'html.parser')"
   ]
  },
  {
   "cell_type": "code",
   "execution_count": 3,
   "metadata": {},
   "outputs": [],
   "source": [
    "from numpy import append\n",
    "\n",
    "\n",
    "raw_links = bsoup.find_all(\"a\")\n",
    "\n",
    "links = []\n",
    "text = []\n",
    "for link in raw_links:\n",
    "    links.append(link.get(\"href\"))\n",
    "    text.append(link.string)\n"
   ]
  },
  {
   "cell_type": "code",
   "execution_count": 4,
   "metadata": {},
   "outputs": [],
   "source": [
    "# bsoup.find(\"\")\n",
    "df = pd.DataFrame({\n",
    "    \"link\": links,\n",
    "    \"label\": text\n",
    "})"
   ]
  },
  {
   "cell_type": "code",
   "execution_count": 5,
   "metadata": {},
   "outputs": [
    {
     "data": {
      "text/html": [
       "<div>\n",
       "<style scoped>\n",
       "    .dataframe tbody tr th:only-of-type {\n",
       "        vertical-align: middle;\n",
       "    }\n",
       "\n",
       "    .dataframe tbody tr th {\n",
       "        vertical-align: top;\n",
       "    }\n",
       "\n",
       "    .dataframe thead th {\n",
       "        text-align: right;\n",
       "    }\n",
       "</style>\n",
       "<table border=\"1\" class=\"dataframe\">\n",
       "  <thead>\n",
       "    <tr style=\"text-align: right;\">\n",
       "      <th></th>\n",
       "      <th>link</th>\n",
       "      <th>label</th>\n",
       "    </tr>\n",
       "  </thead>\n",
       "  <tbody>\n",
       "    <tr>\n",
       "      <th>0</th>\n",
       "      <td>#</td>\n",
       "      <td>Menu</td>\n",
       "    </tr>\n",
       "    <tr>\n",
       "      <th>1</th>\n",
       "      <td>/</td>\n",
       "      <td>ESPN</td>\n",
       "    </tr>\n",
       "    <tr>\n",
       "      <th>2</th>\n",
       "      <td>#</td>\n",
       "      <td>None</td>\n",
       "    </tr>\n",
       "    <tr>\n",
       "      <th>3</th>\n",
       "      <td>#</td>\n",
       "      <td>scores</td>\n",
       "    </tr>\n",
       "    <tr>\n",
       "      <th>4</th>\n",
       "      <td>#</td>\n",
       "      <td>None</td>\n",
       "    </tr>\n",
       "    <tr>\n",
       "      <th>...</th>\n",
       "      <td>...</td>\n",
       "      <td>...</td>\n",
       "    </tr>\n",
       "    <tr>\n",
       "      <th>109</th>\n",
       "      <td>http://fantasyfc.espn.com/in/9/clienthome.do</td>\n",
       "      <td>ESPN Fantasy Football</td>\n",
       "    </tr>\n",
       "    <tr>\n",
       "      <th>110</th>\n",
       "      <td>https://disneytermsofuse.com/english/</td>\n",
       "      <td>Terms of Use</td>\n",
       "    </tr>\n",
       "    <tr>\n",
       "      <th>111</th>\n",
       "      <td>https://privacy.thewaltdisneycompany.com/en/cu...</td>\n",
       "      <td>Privacy Policy</td>\n",
       "    </tr>\n",
       "    <tr>\n",
       "      <th>112</th>\n",
       "      <td>https://privacy.thewaltdisneycompany.com/en/cu...</td>\n",
       "      <td>Addendum to the Global Privacy Policy</td>\n",
       "    </tr>\n",
       "    <tr>\n",
       "      <th>113</th>\n",
       "      <td>http://preferences-mgr.truste.com/?type=espn&amp;a...</td>\n",
       "      <td>Interest Based Ads</td>\n",
       "    </tr>\n",
       "  </tbody>\n",
       "</table>\n",
       "<p>114 rows × 2 columns</p>\n",
       "</div>"
      ],
      "text/plain": [
       "                                                  link  \\\n",
       "0                                                    #   \n",
       "1                                                    /   \n",
       "2                                                    #   \n",
       "3                                                    #   \n",
       "4                                                    #   \n",
       "..                                                 ...   \n",
       "109       http://fantasyfc.espn.com/in/9/clienthome.do   \n",
       "110              https://disneytermsofuse.com/english/   \n",
       "111  https://privacy.thewaltdisneycompany.com/en/cu...   \n",
       "112  https://privacy.thewaltdisneycompany.com/en/cu...   \n",
       "113  http://preferences-mgr.truste.com/?type=espn&a...   \n",
       "\n",
       "                                     label  \n",
       "0                                     Menu  \n",
       "1                                     ESPN  \n",
       "2                                     None  \n",
       "3                                   scores  \n",
       "4                                     None  \n",
       "..                                     ...  \n",
       "109                  ESPN Fantasy Football  \n",
       "110                           Terms of Use  \n",
       "111                         Privacy Policy  \n",
       "112  Addendum to the Global Privacy Policy  \n",
       "113                     Interest Based Ads  \n",
       "\n",
       "[114 rows x 2 columns]"
      ]
     },
     "execution_count": 5,
     "metadata": {},
     "output_type": "execute_result"
    }
   ],
   "source": [
    "df"
   ]
  },
  {
   "cell_type": "code",
   "execution_count": 6,
   "metadata": {},
   "outputs": [],
   "source": [
    "df1 = df.dropna().reset_index()"
   ]
  },
  {
   "cell_type": "code",
   "execution_count": 7,
   "metadata": {},
   "outputs": [
    {
     "data": {
      "text/html": [
       "<div>\n",
       "<style scoped>\n",
       "    .dataframe tbody tr th:only-of-type {\n",
       "        vertical-align: middle;\n",
       "    }\n",
       "\n",
       "    .dataframe tbody tr th {\n",
       "        vertical-align: top;\n",
       "    }\n",
       "\n",
       "    .dataframe thead th {\n",
       "        text-align: right;\n",
       "    }\n",
       "</style>\n",
       "<table border=\"1\" class=\"dataframe\">\n",
       "  <thead>\n",
       "    <tr style=\"text-align: right;\">\n",
       "      <th></th>\n",
       "      <th>index</th>\n",
       "      <th>link</th>\n",
       "      <th>label</th>\n",
       "    </tr>\n",
       "  </thead>\n",
       "  <tbody>\n",
       "    <tr>\n",
       "      <th>0</th>\n",
       "      <td>0</td>\n",
       "      <td>#</td>\n",
       "      <td>Menu</td>\n",
       "    </tr>\n",
       "    <tr>\n",
       "      <th>1</th>\n",
       "      <td>1</td>\n",
       "      <td>/</td>\n",
       "      <td>ESPN</td>\n",
       "    </tr>\n",
       "    <tr>\n",
       "      <th>2</th>\n",
       "      <td>3</td>\n",
       "      <td>#</td>\n",
       "      <td>scores</td>\n",
       "    </tr>\n",
       "    <tr>\n",
       "      <th>3</th>\n",
       "      <td>5</td>\n",
       "      <td>/olympics/</td>\n",
       "      <td>Olympic Sports</td>\n",
       "    </tr>\n",
       "    <tr>\n",
       "      <th>4</th>\n",
       "      <td>6</td>\n",
       "      <td>/football/</td>\n",
       "      <td>Football</td>\n",
       "    </tr>\n",
       "    <tr>\n",
       "      <th>...</th>\n",
       "      <td>...</td>\n",
       "      <td>...</td>\n",
       "      <td>...</td>\n",
       "    </tr>\n",
       "    <tr>\n",
       "      <th>81</th>\n",
       "      <td>109</td>\n",
       "      <td>http://fantasyfc.espn.com/in/9/clienthome.do</td>\n",
       "      <td>ESPN Fantasy Football</td>\n",
       "    </tr>\n",
       "    <tr>\n",
       "      <th>82</th>\n",
       "      <td>110</td>\n",
       "      <td>https://disneytermsofuse.com/english/</td>\n",
       "      <td>Terms of Use</td>\n",
       "    </tr>\n",
       "    <tr>\n",
       "      <th>83</th>\n",
       "      <td>111</td>\n",
       "      <td>https://privacy.thewaltdisneycompany.com/en/cu...</td>\n",
       "      <td>Privacy Policy</td>\n",
       "    </tr>\n",
       "    <tr>\n",
       "      <th>84</th>\n",
       "      <td>112</td>\n",
       "      <td>https://privacy.thewaltdisneycompany.com/en/cu...</td>\n",
       "      <td>Addendum to the Global Privacy Policy</td>\n",
       "    </tr>\n",
       "    <tr>\n",
       "      <th>85</th>\n",
       "      <td>113</td>\n",
       "      <td>http://preferences-mgr.truste.com/?type=espn&amp;a...</td>\n",
       "      <td>Interest Based Ads</td>\n",
       "    </tr>\n",
       "  </tbody>\n",
       "</table>\n",
       "<p>86 rows × 3 columns</p>\n",
       "</div>"
      ],
      "text/plain": [
       "    index                                               link  \\\n",
       "0       0                                                  #   \n",
       "1       1                                                  /   \n",
       "2       3                                                  #   \n",
       "3       5                                         /olympics/   \n",
       "4       6                                         /football/   \n",
       "..    ...                                                ...   \n",
       "81    109       http://fantasyfc.espn.com/in/9/clienthome.do   \n",
       "82    110              https://disneytermsofuse.com/english/   \n",
       "83    111  https://privacy.thewaltdisneycompany.com/en/cu...   \n",
       "84    112  https://privacy.thewaltdisneycompany.com/en/cu...   \n",
       "85    113  http://preferences-mgr.truste.com/?type=espn&a...   \n",
       "\n",
       "                                    label  \n",
       "0                                    Menu  \n",
       "1                                    ESPN  \n",
       "2                                  scores  \n",
       "3                          Olympic Sports  \n",
       "4                                Football  \n",
       "..                                    ...  \n",
       "81                  ESPN Fantasy Football  \n",
       "82                           Terms of Use  \n",
       "83                         Privacy Policy  \n",
       "84  Addendum to the Global Privacy Policy  \n",
       "85                     Interest Based Ads  \n",
       "\n",
       "[86 rows x 3 columns]"
      ]
     },
     "execution_count": 7,
     "metadata": {},
     "output_type": "execute_result"
    }
   ],
   "source": [
    "df1"
   ]
  },
  {
   "cell_type": "code",
   "execution_count": 18,
   "metadata": {},
   "outputs": [],
   "source": [
    "rVal = df1[\"link\"].map(lambda x: x.startswith(\"https://\"))\n",
    "master_Df = df1[rVal].drop(\"index\", axis=1).reset_index().drop(\"index\", axis=1)\n"
   ]
  },
  {
   "cell_type": "code",
   "execution_count": 22,
   "metadata": {},
   "outputs": [],
   "source": [
    "def get_third_part(link):\n",
    "    parts = link.split('/')  # Split the URL by \"/\"\n",
    "    if len(parts) > 3:       # Ensure the URL has enough parts\n",
    "        return parts[3]\n",
    "    return None\n",
    "\n",
    "\n",
    "master_Df[\"extracted\"] = master_Df[\"link\"].apply(get_third_part)"
   ]
  },
  {
   "cell_type": "code",
   "execution_count": 35,
   "metadata": {},
   "outputs": [],
   "source": [
    "master_Df = master_Df[(master_Df[\"extracted\"] == \"football\") | (master_Df[\"extracted\"] == \"soccer\")]"
   ]
  },
  {
   "cell_type": "code",
   "execution_count": 36,
   "metadata": {},
   "outputs": [
    {
     "data": {
      "text/html": [
       "<div>\n",
       "<style scoped>\n",
       "    .dataframe tbody tr th:only-of-type {\n",
       "        vertical-align: middle;\n",
       "    }\n",
       "\n",
       "    .dataframe tbody tr th {\n",
       "        vertical-align: top;\n",
       "    }\n",
       "\n",
       "    .dataframe thead th {\n",
       "        text-align: right;\n",
       "    }\n",
       "</style>\n",
       "<table border=\"1\" class=\"dataframe\">\n",
       "  <thead>\n",
       "    <tr style=\"text-align: right;\">\n",
       "      <th></th>\n",
       "      <th>link</th>\n",
       "      <th>label</th>\n",
       "      <th>extracted</th>\n",
       "    </tr>\n",
       "  </thead>\n",
       "  <tbody>\n",
       "    <tr>\n",
       "      <th>0</th>\n",
       "      <td>https://www.espn.in/football/league/_/name/fif...</td>\n",
       "      <td>FIFA World Cup</td>\n",
       "      <td>football</td>\n",
       "    </tr>\n",
       "    <tr>\n",
       "      <th>1</th>\n",
       "      <td>https://www.espn.com/soccer/scoreboard/_/date/...</td>\n",
       "      <td>See All</td>\n",
       "      <td>soccer</td>\n",
       "    </tr>\n",
       "    <tr>\n",
       "      <th>2</th>\n",
       "      <td>https://www.espn.in/football/club/_/id/360</td>\n",
       "      <td>See All</td>\n",
       "      <td>football</td>\n",
       "    </tr>\n",
       "    <tr>\n",
       "      <th>3</th>\n",
       "      <td>https://www.espn.co.uk/soccer/transfers</td>\n",
       "      <td>Check out all the latest completed major deals</td>\n",
       "      <td>soccer</td>\n",
       "    </tr>\n",
       "    <tr>\n",
       "      <th>4</th>\n",
       "      <td>https://www.espn.co.uk/football/table/_/league...</td>\n",
       "      <td>AFC Champions League Elite: Standings</td>\n",
       "      <td>football</td>\n",
       "    </tr>\n",
       "    <tr>\n",
       "      <th>5</th>\n",
       "      <td>https://www.espn.co.uk/football/scoreboard/_/l...</td>\n",
       "      <td>UEFA Champions League: Matchday 2 results</td>\n",
       "      <td>football</td>\n",
       "    </tr>\n",
       "    <tr>\n",
       "      <th>6</th>\n",
       "      <td>https://www.espn.co.uk/football/table/_/league...</td>\n",
       "      <td>UEFA Champions League standings</td>\n",
       "      <td>football</td>\n",
       "    </tr>\n",
       "    <tr>\n",
       "      <th>7</th>\n",
       "      <td>https://www.espn.in/football/scoreboard</td>\n",
       "      <td>Latest scores</td>\n",
       "      <td>football</td>\n",
       "    </tr>\n",
       "    <tr>\n",
       "      <th>8</th>\n",
       "      <td>https://www.espn.in/football/table</td>\n",
       "      <td>League tables</td>\n",
       "      <td>football</td>\n",
       "    </tr>\n",
       "    <tr>\n",
       "      <th>9</th>\n",
       "      <td>https://www.espn.in/football/transfers</td>\n",
       "      <td>Transfers</td>\n",
       "      <td>football</td>\n",
       "    </tr>\n",
       "  </tbody>\n",
       "</table>\n",
       "</div>"
      ],
      "text/plain": [
       "                                                link  \\\n",
       "0  https://www.espn.in/football/league/_/name/fif...   \n",
       "1  https://www.espn.com/soccer/scoreboard/_/date/...   \n",
       "2         https://www.espn.in/football/club/_/id/360   \n",
       "3            https://www.espn.co.uk/soccer/transfers   \n",
       "4  https://www.espn.co.uk/football/table/_/league...   \n",
       "5  https://www.espn.co.uk/football/scoreboard/_/l...   \n",
       "6  https://www.espn.co.uk/football/table/_/league...   \n",
       "7            https://www.espn.in/football/scoreboard   \n",
       "8                 https://www.espn.in/football/table   \n",
       "9             https://www.espn.in/football/transfers   \n",
       "\n",
       "                                            label extracted  \n",
       "0                                  FIFA World Cup  football  \n",
       "1                                         See All    soccer  \n",
       "2                                         See All  football  \n",
       "3  Check out all the latest completed major deals    soccer  \n",
       "4           AFC Champions League Elite: Standings  football  \n",
       "5       UEFA Champions League: Matchday 2 results  football  \n",
       "6                 UEFA Champions League standings  football  \n",
       "7                                   Latest scores  football  \n",
       "8                                   League tables  football  \n",
       "9                                       Transfers  football  "
      ]
     },
     "execution_count": 36,
     "metadata": {},
     "output_type": "execute_result"
    }
   ],
   "source": [
    "master_Df"
   ]
  },
  {
   "cell_type": "code",
   "execution_count": 46,
   "metadata": {},
   "outputs": [
    {
     "name": "stderr",
     "output_type": "stream",
     "text": [
      "d:\\GenAi_Course\\gen_ai_tutorial\\llm_practices\\venv\\Lib\\site-packages\\urllib3\\connectionpool.py:1099: InsecureRequestWarning: Unverified HTTPS request is being made to host 'www.espn.in'. Adding certificate verification is strongly advised. See: https://urllib3.readthedocs.io/en/latest/advanced-usage.html#tls-warnings\n",
      "  warnings.warn(\n",
      "d:\\GenAi_Course\\gen_ai_tutorial\\llm_practices\\venv\\Lib\\site-packages\\urllib3\\connectionpool.py:1099: InsecureRequestWarning: Unverified HTTPS request is being made to host 'www.espn.com'. Adding certificate verification is strongly advised. See: https://urllib3.readthedocs.io/en/latest/advanced-usage.html#tls-warnings\n",
      "  warnings.warn(\n",
      "d:\\GenAi_Course\\gen_ai_tutorial\\llm_practices\\venv\\Lib\\site-packages\\urllib3\\connectionpool.py:1099: InsecureRequestWarning: Unverified HTTPS request is being made to host 'www.espn.in'. Adding certificate verification is strongly advised. See: https://urllib3.readthedocs.io/en/latest/advanced-usage.html#tls-warnings\n",
      "  warnings.warn(\n",
      "d:\\GenAi_Course\\gen_ai_tutorial\\llm_practices\\venv\\Lib\\site-packages\\urllib3\\connectionpool.py:1099: InsecureRequestWarning: Unverified HTTPS request is being made to host 'www.espn.co.uk'. Adding certificate verification is strongly advised. See: https://urllib3.readthedocs.io/en/latest/advanced-usage.html#tls-warnings\n",
      "  warnings.warn(\n",
      "d:\\GenAi_Course\\gen_ai_tutorial\\llm_practices\\venv\\Lib\\site-packages\\urllib3\\connectionpool.py:1099: InsecureRequestWarning: Unverified HTTPS request is being made to host 'www.espn.co.uk'. Adding certificate verification is strongly advised. See: https://urllib3.readthedocs.io/en/latest/advanced-usage.html#tls-warnings\n",
      "  warnings.warn(\n",
      "d:\\GenAi_Course\\gen_ai_tutorial\\llm_practices\\venv\\Lib\\site-packages\\urllib3\\connectionpool.py:1099: InsecureRequestWarning: Unverified HTTPS request is being made to host 'www.espn.co.uk'. Adding certificate verification is strongly advised. See: https://urllib3.readthedocs.io/en/latest/advanced-usage.html#tls-warnings\n",
      "  warnings.warn(\n",
      "d:\\GenAi_Course\\gen_ai_tutorial\\llm_practices\\venv\\Lib\\site-packages\\urllib3\\connectionpool.py:1099: InsecureRequestWarning: Unverified HTTPS request is being made to host 'www.espn.co.uk'. Adding certificate verification is strongly advised. See: https://urllib3.readthedocs.io/en/latest/advanced-usage.html#tls-warnings\n",
      "  warnings.warn(\n",
      "d:\\GenAi_Course\\gen_ai_tutorial\\llm_practices\\venv\\Lib\\site-packages\\urllib3\\connectionpool.py:1099: InsecureRequestWarning: Unverified HTTPS request is being made to host 'www.espn.in'. Adding certificate verification is strongly advised. See: https://urllib3.readthedocs.io/en/latest/advanced-usage.html#tls-warnings\n",
      "  warnings.warn(\n",
      "d:\\GenAi_Course\\gen_ai_tutorial\\llm_practices\\venv\\Lib\\site-packages\\urllib3\\connectionpool.py:1099: InsecureRequestWarning: Unverified HTTPS request is being made to host 'www.espn.in'. Adding certificate verification is strongly advised. See: https://urllib3.readthedocs.io/en/latest/advanced-usage.html#tls-warnings\n",
      "  warnings.warn(\n",
      "d:\\GenAi_Course\\gen_ai_tutorial\\llm_practices\\venv\\Lib\\site-packages\\urllib3\\connectionpool.py:1099: InsecureRequestWarning: Unverified HTTPS request is being made to host 'www.espn.in'. Adding certificate verification is strongly advised. See: https://urllib3.readthedocs.io/en/latest/advanced-usage.html#tls-warnings\n",
      "  warnings.warn(\n",
      "C:\\Users\\Aathi\\AppData\\Local\\Temp\\ipykernel_2388\\2286391506.py:3: SettingWithCopyWarning: \n",
      "A value is trying to be set on a copy of a slice from a DataFrame.\n",
      "Try using .loc[row_indexer,col_indexer] = value instead\n",
      "\n",
      "See the caveats in the documentation: https://pandas.pydata.org/pandas-docs/stable/user_guide/indexing.html#returning-a-view-versus-a-copy\n",
      "  master_Df[\"scrapped_news\"] = master_Df[\"link\"].apply(create_scraped_news)\n"
     ]
    }
   ],
   "source": [
    "from llm_newsScraping import create_scraped_news\n",
    "\n",
    "master_Df[\"scrapped_news\"] = master_Df[\"link\"].apply(create_scraped_news)"
   ]
  },
  {
   "cell_type": "markdown",
   "metadata": {},
   "source": []
  },
  {
   "cell_type": "code",
   "execution_count": 47,
   "metadata": {},
   "outputs": [
    {
     "data": {
      "text/plain": [
       "\"## Manchester United: A Season of Disappointment and Change\\n\\n**Title:** Manchester United: A Season of Disappointment and Change\\n\\n**Subtitle:** Ten Hag's men struggle in the Premier League, but rumors suggest major changes are on the horizon.\\n\\n**Description:**\\n\\nManchester United's miserable start to the Premier League has brought disappointment and uncertainty to the club. Currently sitting 13th, their hopes of challenging for the title have already faded. However, recent reports suggest significant changes are afoot.\\n\\nThe club is reportedly considering a move for Inter Milan striker Romelu Inzaghi to replace struggling manager Erik ten Hag. Additionally, speculation links them with a move for teenage wonderkid Chido Obi-Martin.\\n\\nTen Hag himself has come under intense scrutiny, with fans and pundits alike questioning his ability to turn the team's fortunes around. Despite recent signings and an improved performance against Everton, questions persist over the long-term direction of the club.\\n\\nThe team's struggles extend beyond just results. Poor performances and a lack of attacking potency have raised concerns about the quality of the squad. The defense has also been inconsistent, leaking goals at an alarming rate.\\n\\nDespite the challenges, Manchester United fans remain hopeful that the new owners will invest wisely and bring success back to the club. However, the upcoming months will be crucial in determining the future of the team under Ten Hag's leadership.\""
      ]
     },
     "execution_count": 47,
     "metadata": {},
     "output_type": "execute_result"
    }
   ],
   "source": [
    "master_Df[\"scrapped_news\"][2]"
   ]
  },
  {
   "cell_type": "code",
   "execution_count": 48,
   "metadata": {},
   "outputs": [
    {
     "name": "stderr",
     "output_type": "stream",
     "text": [
      "d:\\GenAi_Course\\gen_ai_tutorial\\llm_practices\\venv\\Lib\\site-packages\\urllib3\\connectionpool.py:1099: InsecureRequestWarning: Unverified HTTPS request is being made to host 'www.espn.com'. Adding certificate verification is strongly advised. See: https://urllib3.readthedocs.io/en/latest/advanced-usage.html#tls-warnings\n",
      "  warnings.warn(\n"
     ]
    },
    {
     "data": {
      "text/plain": [
       "\"## Summary of Soccer Scores (October 2, 2024)\\n\\n**International Competitions:**\\n\\n* **Champions League:**\\n    * Girona lose 3-2 to Feyenoord in a five-goal thriller.\\n    * Manchester United lose 1-0 to Real Madrid in the opening game.\\n    * Benfica defeat Atlético Madrid 4-0.\\n* **Europa League:**\\n    * Guimaraes secure a 1-0 win against NK Celje.\\n* **MLS:**\\n    * Atlanta United FC and CF Montréal draw 10-10.\\n    * Charlotte FC defeat Chicago Fire FC 3-1.\\n\\n**National Competitions:**\\n\\n* **English Championship:**\\n    * Preston North End and Watford draw 0-0.\\n* **League One:**\\n    * Union Omaha defeats Spokane Velocity FC 3-1.\\n* **USL Championship:**\\n    * Louisville City FC defeat Miami FC 3-0.\\n* **USL League One:**\\n    * Union Omaha defeats Spokane Velocity FC 3-1.\\n* **Mexican Liga de Expansión MX:**\\n    * Atlético Morelia and Celaya draw 3-3.\\n\\n**Other News:**\\n\\n* FIFA adjusts transfer rules for the upcoming Club World Cup in the United States.\\n* Deschamps explains his decision not to include Mbappe in France's squad due to fitness concerns.\\n* Laurens expresses concern over Atletico Madrid's heavy loss to Benfica in the Champions League.\\n\\n**Additional Highlights:**\\n\\n* Several other league matches and cup games took place, with various results.\\n* ESPN provides updates on player transfers and upcoming competitions.\""
      ]
     },
     "execution_count": 48,
     "metadata": {},
     "output_type": "execute_result"
    }
   ],
   "source": [
    "create_scraped_news(master_Df[\"link\"][1])"
   ]
  },
  {
   "cell_type": "code",
   "execution_count": null,
   "metadata": {},
   "outputs": [],
   "source": []
  }
 ],
 "metadata": {
  "kernelspec": {
   "display_name": "venv",
   "language": "python",
   "name": "python3"
  },
  "language_info": {
   "codemirror_mode": {
    "name": "ipython",
    "version": 3
   },
   "file_extension": ".py",
   "mimetype": "text/x-python",
   "name": "python",
   "nbconvert_exporter": "python",
   "pygments_lexer": "ipython3",
   "version": "3.11.0"
  }
 },
 "nbformat": 4,
 "nbformat_minor": 2
}
